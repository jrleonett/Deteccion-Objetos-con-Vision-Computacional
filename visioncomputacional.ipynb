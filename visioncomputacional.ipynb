{
  "nbformat": 4,
  "nbformat_minor": 0,
  "metadata": {
    "colab": {
      "provenance": [],
      "authorship_tag": "ABX9TyMqzIRw+sUQhX66qycLX5ZW",
      "include_colab_link": true
    },
    "kernelspec": {
      "name": "python3",
      "display_name": "Python 3"
    },
    "language_info": {
      "name": "python"
    }
  },
  "cells": [
    {
      "cell_type": "markdown",
      "metadata": {
        "id": "view-in-github",
        "colab_type": "text"
      },
      "source": [
        "<a href=\"https://colab.research.google.com/github/jrleonett/visioncomputacional/blob/main/visioncomputacional.ipynb\" target=\"_parent\"><img src=\"https://colab.research.google.com/assets/colab-badge.svg\" alt=\"Open In Colab\"/></a>"
      ]
    },
    {
      "cell_type": "markdown",
      "source": [
        "# Visión Computacional"
      ],
      "metadata": {
        "id": "-pFWHCHdJfSI"
      }
    },
    {
      "cell_type": "markdown",
      "source": [
        "Este pequeño ejemplo de como usar la clasificación de imágenes con Python, Jupyter Notebook y Gluon-CV.-\n",
        "Tomé como base a http://www.klaushaller.net/?page_id=1058  "
      ],
      "metadata": {
        "id": "kqgH-DzqJoMK"
      }
    },
    {
      "cell_type": "code",
      "execution_count": null,
      "metadata": {
        "id": "jKiMXeZPB1Z1"
      },
      "outputs": [],
      "source": [
        "pip install mxnet gluoncv matplotlib"
      ]
    },
    {
      "cell_type": "code",
      "source": [
        "import os\n",
        "import cv2\n",
        "import zipfile\n",
        "from google.colab import files\n",
        "from google.colab.patches import cv2_imshow\n",
        "\n",
        "pip install mxnet gluoncv matplotlib\n",
        "\n",
        "# Crear la carpeta \"EVIDENCIA\"\n",
        "if not os.path.exists('EVIDENCIA'):\n",
        "    os.makedirs('EVIDENCIA')\n",
        "\n",
        "print(\"Carpeta 'EVIDENCIA' creada.\")\n",
        "\n"
      ],
      "metadata": {
        "id": "24_e7Q4SCkci"
      },
      "execution_count": null,
      "outputs": []
    },
    {
      "cell_type": "code",
      "source": [
        "# Cargar YOLO\n",
        "net = cv2.dnn.readNet(\"yolov3.weights\", \"yolov3.cfg\")\n",
        "with open(\"coco.names\", \"r\") as f:\n",
        "    classes = f.read().strip().split(\"\\n\")\n",
        "\n",
        "# Cargar la imagen\n",
        "uploaded = files.upload()\n",
        "image_name = next(iter(uploaded))\n",
        "image = cv2.imread(image_name)\n",
        "\n",
        "# Obtener dimensiones de la imagen\n",
        "height, width, _ = image.shape\n",
        "\n",
        "# Preprocesar la imagen para YOLO\n",
        "blob = cv2.dnn.blobFromImage(image, 1/255.0, (416, 416), swapRB=True, crop=False)\n",
        "net.setInput(blob)\n",
        "layer_names = net.getLayerNames()\n",
        "output_layers = [layer_names[i[0] - 1] for i in net.getUnconnectedOutLayers()]\n",
        "detections = net.forward(output_layers)\n",
        "\n",
        "# Procesar las detecciones\n",
        "conf_threshold = 0.5\n",
        "nms_threshold = 0.4\n",
        "boxes = []\n",
        "confidences = []\n",
        "class_ids = []\n",
        "\n",
        "for output in detections:\n",
        "    for detection in output:\n",
        "        scores = detection[5:]\n",
        "        class_id = np.argmax(scores)\n",
        "        confidence = scores[class_id]\n",
        "        if confidence > conf_threshold:\n",
        "            center_x = int(detection[0] * width)\n",
        "            center_y = int(detection[1] * height)\n",
        "            w = int(detection[2] * width)\n",
        "            h = int(detection[3] * height)\n",
        "            x = int(center_x - w / 2)\n",
        "            y = int(center_y - h / 2)\n",
        "            boxes.append([x, y, w, h])\n",
        "            confidences.append(float(confidence))\n",
        "            class_ids.append(class_id)\n",
        "\n",
        "# Aplicar Non-Maximum Suppression (NMS)\n",
        "indices = cv2.dnn.NMSBoxes(boxes, confidences, conf_threshold, nms_threshold)\n",
        "\n",
        "# Dibujar las cajas y etiquetas en la imagen\n",
        "for i in indices:\n",
        "    i = i[0]\n",
        "    box = boxes[i]\n",
        "    x, y, w, h = box\n",
        "    label = f\"{classes[class_ids[i]]}: {confidences[i]:.2f}\"\n",
        "    cv2.rectangle(image, (x, y), (x + w, y + h), (0, 255, 0), 2)\n",
        "    cv2.putText(image, label, (x, y - 10), cv2.FONT_HERSHEY_SIMPLEX, 0.5, (0, 255, 0), 2)\n",
        "\n",
        "# Mostrar la imagen con las detecciones\n",
        "cv2_imshow(image)\n",
        "\n",
        "# Guardar la imagen procesada en la carpeta \"EVIDENCIA\"\n",
        "output_image_path = os.path.join('EVIDENCIA', 'imagen_procesada.jpg')\n",
        "cv2.imwrite(output_image_path, image)\n",
        "print(f\"Imagen procesada guardada en {output_image_path}\")"
      ],
      "metadata": {
        "id": "YTSuPPOzHT7I"
      },
      "execution_count": null,
      "outputs": []
    },
    {
      "cell_type": "code",
      "source": [],
      "metadata": {
        "id": "G_8DpghgZcHU"
      },
      "execution_count": null,
      "outputs": []
    },
    {
      "cell_type": "markdown",
      "source": [],
      "metadata": {
        "id": "FarOcspIY57G"
      }
    },
    {
      "cell_type": "markdown",
      "source": [
        "# Zona de resultados"
      ],
      "metadata": {
        "id": "C66ygt2fG-S6"
      }
    }
  ]
}