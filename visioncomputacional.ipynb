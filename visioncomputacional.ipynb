{
  "nbformat": 4,
  "nbformat_minor": 0,
  "metadata": {
    "colab": {
      "provenance": [],
      "authorship_tag": "ABX9TyNdlgmobY7P76SwY5XL6zUQ",
      "include_colab_link": true
    },
    "kernelspec": {
      "name": "python3",
      "display_name": "Python 3"
    },
    "language_info": {
      "name": "python"
    }
  },
  "cells": [
    {
      "cell_type": "markdown",
      "metadata": {
        "id": "view-in-github",
        "colab_type": "text"
      },
      "source": [
        "<a href=\"https://colab.research.google.com/github/jrleonett/visioncomputacional/blob/main/visioncomputacional.ipynb\" target=\"_parent\"><img src=\"https://colab.research.google.com/assets/colab-badge.svg\" alt=\"Open In Colab\"/></a>"
      ]
    },
    {
      "cell_type": "markdown",
      "source": [
        "# Procesamiento de imágenes con YOLO y Visión por Computadora\n",
        "\n",
        "Este proyecto utiliza el modelo YOLO (You Only Look Once) para procesar imágenes y detectar objetos en ellas. El código está dividido en tres fases principales: creación de una carpeta para almacenar resultados, procesamiento de la imagen y descarga de los resultados en un archivo ZIP. Realizado por **José R. Leonett** para la comunidad de peritos forenses digitales de Guatemala www.forensedigital.gt"
      ],
      "metadata": {
        "id": "-pFWHCHdJfSI"
      }
    },
    {
      "cell_type": "code",
      "source": [
        "#@title Fase 1: Carga de variables y creación de la carpeta \"EVIDENCIA\"\n",
        "\n",
        "import os\n",
        "\n",
        "# Crear la carpeta \"EVIDENCIAS\" si no existe\n",
        "if not os.path.exists('EVIDENCIAS'):\n",
        "    os.makedirs('EVIDENCIAS')\n",
        "\n",
        "print(\"Carpeta 'EVIDENCIAS' creada.\")"
      ],
      "metadata": {
        "id": "24_e7Q4SCkci",
        "cellView": "form"
      },
      "execution_count": null,
      "outputs": []
    },
    {
      "cell_type": "code",
      "source": [
        "#@title Fase 2: Procesamiento de la imagen y detección de objetos\n",
        "\n",
        "import cv2\n",
        "import numpy as np\n",
        "import os\n",
        "from google.colab.patches import cv2_imshow\n",
        "\n",
        "# Descargar los archivos de YOLO si no existen\n",
        "if not os.path.exists(\"yolov3.cfg\") or not os.path.exists(\"yolov3.weights\") or not os.path.exists(\"coco.names\"):\n",
        "    print(\"Descargando archivos de YOLO...\")\n",
        "    !wget https://github.com/pjreddie/darknet/blob/master/cfg/yolov3.cfg?raw=true -O yolov3.cfg\n",
        "    !wget https://pjreddie.com/media/files/yolov3.weights\n",
        "    !wget https://github.com/pjreddie/darknet/blob/master/data/coco.names?raw=true -O coco.names\n",
        "    print(\"Archivos de YOLO descargados correctamente.\")\n",
        "\n",
        "# Cargar YOLO\n",
        "net = cv2.dnn.readNet(\"yolov3.weights\", \"yolov3.cfg\")\n",
        "with open(\"coco.names\", \"r\") as f:\n",
        "    classes = f.read().strip().split(\"\\n\")\n",
        "\n",
        "# Leer la imagen de la carpeta \"EVIDENCIAS\"\n",
        "evidencia_files = os.listdir('EVIDENCIAS')\n",
        "image_extensions = ['.jpg', '.jpeg', '.png']\n",
        "image_name = None\n",
        "\n",
        "# Buscar la primera imagen válida en la carpeta\n",
        "for file in evidencia_files:\n",
        "    if any(file.lower().endswith(ext) for ext in image_extensions):\n",
        "        image_name = file\n",
        "        break\n",
        "\n",
        "if not image_name:\n",
        "    raise FileNotFoundError(\"No se encontró ninguna imagen válida (JPG o PNG) en la carpeta 'EVIDENCIAS'.\")\n",
        "\n",
        "image_path = os.path.join('EVIDENCIAS', image_name)\n",
        "image = cv2.imread(image_path)\n",
        "\n",
        "if image is None:\n",
        "    raise ValueError(\"No se pudo cargar la imagen. Asegúrate de que el archivo sea un JPG o PNG válido.\")\n",
        "\n",
        "# Obtener dimensiones de la imagen\n",
        "height, width, _ = image.shape\n",
        "\n",
        "# Preprocesar la imagen para YOLO\n",
        "blob = cv2.dnn.blobFromImage(image, 1/255.0, (416, 416), swapRB=True, crop=False)\n",
        "net.setInput(blob)\n",
        "\n",
        "# Obtener las capas de salida\n",
        "layer_names = net.getLayerNames()\n",
        "output_layers_indices = net.getUnconnectedOutLayers()\n",
        "\n",
        "# Verificar si output_layers_indices es una lista de listas o una lista de enteros\n",
        "if isinstance(output_layers_indices[0], list):\n",
        "    output_layers = [layer_names[i[0] - 1] for i in output_layers_indices]\n",
        "else:\n",
        "    output_layers = [layer_names[i - 1] for i in output_layers_indices]\n",
        "\n",
        "detections = net.forward(output_layers)\n",
        "\n",
        "# Procesar las detecciones\n",
        "conf_threshold = 0.5\n",
        "nms_threshold = 0.4\n",
        "boxes = []\n",
        "confidences = []\n",
        "class_ids = []\n",
        "\n",
        "for output in detections:\n",
        "    for detection in output:\n",
        "        scores = detection[5:]\n",
        "        class_id = np.argmax(scores)\n",
        "        confidence = scores[class_id]\n",
        "        if confidence > conf_threshold:\n",
        "            center_x = int(detection[0] * width)\n",
        "            center_y = int(detection[1] * height)\n",
        "            w = int(detection[2] * width)\n",
        "            h = int(detection[3] * height)\n",
        "            x = int(center_x - w / 2)\n",
        "            y = int(center_y - h / 2)\n",
        "            boxes.append([x, y, w, h])\n",
        "            confidences.append(float(confidence))\n",
        "            class_ids.append(class_id)\n",
        "\n",
        "# Aplicar Non-Maximum Suppression (NMS)\n",
        "indices = cv2.dnn.NMSBoxes(boxes, confidences, conf_threshold, nms_threshold)\n",
        "\n",
        "# Dibujar las cajas y etiquetas en la imagen\n",
        "image_detected = image.copy()\n",
        "for i in indices:\n",
        "    i = i[0] if isinstance(i, (list, np.ndarray)) else i\n",
        "    box = boxes[i]\n",
        "    x, y, w, h = box\n",
        "    label = f\"{classes[class_ids[i]]}: {confidences[i]:.2f}\"\n",
        "    cv2.rectangle(image_detected, (x, y), (x + w, y + h), (0, 255, 0), 2)\n",
        "    cv2.putText(image_detected, label, (x, y - 10), cv2.FONT_HERSHEY_SIMPLEX, 0.5, (0, 255, 0), 2)\n",
        "\n",
        "# Mostrar la imagen original y la imagen con detecciones\n",
        "print(\"Imagen original:\")\n",
        "cv2_imshow(image)\n",
        "\n",
        "print(\"Imagen con objetos detectados:\")\n",
        "cv2_imshow(image_detected)\n",
        "\n",
        "# Guardar la imagen con detecciones en la carpeta \"EVIDENCIAS\"\n",
        "output_image_name = image_name.replace(\".jpg\", \"_detectAI.jpg\").replace(\".jpeg\", \"_detectAI.jpg\").replace(\".png\", \"_detectAI.png\")\n",
        "output_image_path = os.path.join('EVIDENCIAS', output_image_name)\n",
        "cv2.imwrite(output_image_path, image_detected)\n",
        "print(f\"Imagen con detecciones guardada en {output_image_path}\")"
      ],
      "metadata": {
        "id": "YTSuPPOzHT7I",
        "cellView": "form"
      },
      "execution_count": null,
      "outputs": []
    },
    {
      "cell_type": "code",
      "source": [
        "#@title Fase 3: Descargar los resultados en un archivo ZIP\n",
        "\n",
        "import zipfile\n",
        "from google.colab import files\n",
        "\n",
        "# Crear un archivo ZIP con las imágenes de la carpeta \"EVIDENCIAS\"\n",
        "zip_path = 'EVIDENCIAS.zip'\n",
        "with zipfile.ZipFile(zip_path, 'w') as zipf:\n",
        "    for root, dirs, files_in_folder in os.walk('EVIDENCIAS'):\n",
        "        for file in files_in_folder:\n",
        "            file_path = os.path.join(root, file)\n",
        "            zipf.write(file_path, arcname=file)\n",
        "\n",
        "# Descargar el archivo ZIP\n",
        "files.download(zip_path)\n",
        "print(f\"Archivo {zip_path} descargado.\")"
      ],
      "metadata": {
        "id": "G_8DpghgZcHU",
        "cellView": "form"
      },
      "execution_count": null,
      "outputs": []
    },
    {
      "cell_type": "markdown",
      "source": [
        "# Zona de resultados"
      ],
      "metadata": {
        "id": "C66ygt2fG-S6"
      }
    }
  ]
}